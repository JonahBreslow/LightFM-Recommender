{
 "cells": [
  {
   "cell_type": "markdown",
   "source": [
    "# Recommender Demo\n",
    "## Using cosine similarity"
   ],
   "metadata": {
    "collapsed": false,
    "pycharm": {
     "name": "#%% md\n"
    }
   }
  },
  {
   "cell_type": "code",
   "execution_count": 1,
   "outputs": [],
   "source": [
    "from src.similarity_scores import find_similar_users, get_recommendations\n",
    "import pandas as pd"
   ],
   "metadata": {
    "collapsed": false,
    "pycharm": {
     "name": "#%%\n"
    }
   }
  },
  {
   "cell_type": "code",
   "execution_count": 6,
   "outputs": [],
   "source": [
    "ratings = pd.read_csv('Data/Input/ratings.csv')\n",
    "movies = pd.read_csv('Data/Input/movies.csv')\n",
    "ratings_wide = ratings.pivot(index='userId', columns='movieId', values='rating')"
   ],
   "metadata": {
    "collapsed": false,
    "pycharm": {
     "name": "#%%\n"
    }
   }
  },
  {
   "cell_type": "code",
   "execution_count": 103,
   "outputs": [],
   "source": [
    "user = 100\n",
    "num_users = -1\n",
    "num_recs=5"
   ],
   "metadata": {
    "collapsed": false,
    "pycharm": {
     "name": "#%%\n"
    }
   }
  },
  {
   "cell_type": "code",
   "execution_count": 104,
   "outputs": [
    {
     "name": "stdout",
     "output_type": "stream",
     "text": [
      "CPU times: total: 4.8 s\n",
      "Wall time: 13.7 s\n"
     ]
    }
   ],
   "source": [
    "%%time\n",
    "test = get_recommendations(ratings, user, num_users=num_users, num_recs=num_recs)"
   ],
   "metadata": {
    "collapsed": false,
    "pycharm": {
     "name": "#%%\n"
    }
   }
  },
  {
   "cell_type": "code",
   "execution_count": 105,
   "outputs": [
    {
     "data": {
      "text/plain": "   movieId  wt_rating                             title  \\\n0      356   2.945969               Forrest Gump (1994)   \n1      296   2.683630               Pulp Fiction (1994)   \n2      318   2.678084  Shawshank Redemption, The (1994)   \n3      593   2.398147  Silence of the Lambs, The (1991)   \n4     2571   2.169936                Matrix, The (1999)   \n\n                        genres  \n0     Comedy|Drama|Romance|War  \n1  Comedy|Crime|Drama|Thriller  \n2                  Crime|Drama  \n3        Crime|Horror|Thriller  \n4       Action|Sci-Fi|Thriller  ",
      "text/html": "<div>\n<style scoped>\n    .dataframe tbody tr th:only-of-type {\n        vertical-align: middle;\n    }\n\n    .dataframe tbody tr th {\n        vertical-align: top;\n    }\n\n    .dataframe thead th {\n        text-align: right;\n    }\n</style>\n<table border=\"1\" class=\"dataframe\">\n  <thead>\n    <tr style=\"text-align: right;\">\n      <th></th>\n      <th>movieId</th>\n      <th>wt_rating</th>\n      <th>title</th>\n      <th>genres</th>\n    </tr>\n  </thead>\n  <tbody>\n    <tr>\n      <th>0</th>\n      <td>356</td>\n      <td>2.945969</td>\n      <td>Forrest Gump (1994)</td>\n      <td>Comedy|Drama|Romance|War</td>\n    </tr>\n    <tr>\n      <th>1</th>\n      <td>296</td>\n      <td>2.683630</td>\n      <td>Pulp Fiction (1994)</td>\n      <td>Comedy|Crime|Drama|Thriller</td>\n    </tr>\n    <tr>\n      <th>2</th>\n      <td>318</td>\n      <td>2.678084</td>\n      <td>Shawshank Redemption, The (1994)</td>\n      <td>Crime|Drama</td>\n    </tr>\n    <tr>\n      <th>3</th>\n      <td>593</td>\n      <td>2.398147</td>\n      <td>Silence of the Lambs, The (1991)</td>\n      <td>Crime|Horror|Thriller</td>\n    </tr>\n    <tr>\n      <th>4</th>\n      <td>2571</td>\n      <td>2.169936</td>\n      <td>Matrix, The (1999)</td>\n      <td>Action|Sci-Fi|Thriller</td>\n    </tr>\n  </tbody>\n</table>\n</div>"
     },
     "execution_count": 105,
     "metadata": {},
     "output_type": "execute_result"
    }
   ],
   "source": [
    "test.merge(movies, 'left', 'movieId')"
   ],
   "metadata": {
    "collapsed": false,
    "pycharm": {
     "name": "#%%\n"
    }
   }
  },
  {
   "cell_type": "markdown",
   "source": [
    "## Using LightFM"
   ],
   "metadata": {
    "collapsed": false,
    "pycharm": {
     "name": "#%% md\n"
    }
   }
  },
  {
   "cell_type": "code",
   "execution_count": 118,
   "outputs": [],
   "source": [
    "from lightfm import LightFM\n",
    "from lightfm.evaluation import precision_at_k, recall_at_k, auc_score\n",
    "from lightfm.cross_validation import random_train_test_split\n",
    "from scipy.sparse import coo_matrix\n",
    "import numpy as np"
   ],
   "metadata": {
    "collapsed": false,
    "pycharm": {
     "name": "#%%\n"
    }
   }
  },
  {
   "cell_type": "code",
   "execution_count": 92,
   "outputs": [
    {
     "name": "stdout",
     "output_type": "stream",
     "text": [
      "Training data shape: (610, 9724)\n",
      "Testing data shape: (610, 9724)\n"
     ]
    }
   ],
   "source": [
    "X_train, X_test = random_train_test_split(\n",
    "    coo_matrix(ratings_wide.fillna(0)), test_percentage=.2\n",
    ")\n",
    "\n",
    "print(f\"Training data shape: {X_train.shape}\")\n",
    "print(f\"Testing data shape: {X_test.shape}\")"
   ],
   "metadata": {
    "collapsed": false,
    "pycharm": {
     "name": "#%%\n"
    }
   }
  },
  {
   "cell_type": "code",
   "execution_count": 102,
   "outputs": [
    {
     "name": "stdout",
     "output_type": "stream",
     "text": [
      "training precision @10: 0.46311476826667786\n",
      "testing precision @10: 0.23475411534309387\n",
      "\n",
      "\n",
      "training recall @10: 0.07093122186748896\n",
      "testing recall @10: 0.12004709565455385\n",
      "\n",
      "\n",
      "training AUC: 0.9628549814224243\n",
      "testing AUC: 0.9189186692237854\n"
     ]
    }
   ],
   "source": [
    "lfm = LightFM(no_components=20, k=10, n=10, loss='warp')\n",
    "lfm.fit(X_train, epochs=10)\n",
    "\n",
    "k=10\n",
    "train_precision = precision_at_k(lfm, X_train, k=k).mean()\n",
    "test_precision = precision_at_k(lfm, X_test, k=k, train_interactions=X_train).mean()\n",
    "train_recall = recall_at_k(lfm, X_train, k=k).mean()\n",
    "test_recall = recall_at_k(lfm, X_test, k=k, train_interactions=X_train).mean()\n",
    "train_auc = auc_score(lfm, X_train).mean()\n",
    "test_auc = auc_score(lfm, X_test).mean()\n",
    "print(f\"training precision @{k}: {train_precision}\")\n",
    "print(f\"testing precision @{k}: {test_precision}\")\n",
    "print(\"\\n\")\n",
    "print(f\"training recall @{k}: {train_recall}\")\n",
    "print(f\"testing recall @{k}: {test_recall}\")\n",
    "print(\"\\n\")\n",
    "print(f\"training AUC: {train_auc}\")\n",
    "print(f\"testing AUC: {test_auc}\")"
   ],
   "metadata": {
    "collapsed": false,
    "pycharm": {
     "name": "#%%\n"
    }
   }
  },
  {
   "cell_type": "markdown",
   "source": [
    "Precision @k: the proportion of the k recommendations that are relevant to the user\n",
    "Recall @k: the proportion of all the possible relevant items recommended to the user\n",
    "AUC: The probability that any known positive rating is higher on the list than a random negative item"
   ],
   "metadata": {
    "collapsed": false,
    "pycharm": {
     "name": "#%% md\n"
    }
   }
  },
  {
   "cell_type": "code",
   "execution_count": 125,
   "outputs": [
    {
     "data": {
      "text/plain": "(9724,)"
     },
     "execution_count": 125,
     "metadata": {},
     "output_type": "execute_result"
    }
   ],
   "source": [
    "items = np.array([i for i in range(X_train.shape[1])])\n",
    "lfm.predict(1, items).s"
   ],
   "metadata": {
    "collapsed": false,
    "pycharm": {
     "name": "#%%\n"
    }
   }
  },
  {
   "cell_type": "code",
   "execution_count": 117,
   "outputs": [
    {
     "data": {
      "text/plain": "9723"
     },
     "execution_count": 117,
     "metadata": {},
     "output_type": "execute_result"
    }
   ],
   "source": [],
   "metadata": {
    "collapsed": false,
    "pycharm": {
     "name": "#%%\n"
    }
   }
  },
  {
   "cell_type": "code",
   "execution_count": null,
   "outputs": [],
   "source": [],
   "metadata": {
    "collapsed": false,
    "pycharm": {
     "name": "#%%\n"
    }
   }
  }
 ],
 "metadata": {
  "kernelspec": {
   "display_name": "Python 3",
   "language": "python",
   "name": "python3"
  },
  "language_info": {
   "codemirror_mode": {
    "name": "ipython",
    "version": 2
   },
   "file_extension": ".py",
   "mimetype": "text/x-python",
   "name": "python",
   "nbconvert_exporter": "python",
   "pygments_lexer": "ipython2",
   "version": "2.7.6"
  }
 },
 "nbformat": 4,
 "nbformat_minor": 0
}